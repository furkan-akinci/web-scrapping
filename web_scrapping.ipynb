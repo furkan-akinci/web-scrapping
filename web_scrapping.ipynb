{
 "cells": [
  {
   "cell_type": "markdown",
   "metadata": {},
   "source": [
    "# Web Scrapping"
   ]
  },
  {
   "cell_type": "code",
   "execution_count": 3,
   "metadata": {},
   "outputs": [],
   "source": [
    "# Furkan Samet AKINCI"
   ]
  },
  {
   "cell_type": "code",
   "execution_count": 22,
   "metadata": {},
   "outputs": [],
   "source": [
    "from collections import Counter\n",
    "import math, random, csv, json, re\n",
    "from bs4 import BeautifulSoup\n",
    "import requests\n",
    "\n",
    "from selenium import webdriver\n",
    "from selenium.webdriver import Firefox\n",
    "from selenium.webdriver.firefox.options import Options"
   ]
  },
  {
   "cell_type": "code",
   "execution_count": 23,
   "metadata": {},
   "outputs": [],
   "source": [
    "def getHTMLSelenium(url=\"https://www.idefix.com/kategori/Kitap/Bilim/grupno=00052?Page=1\"):\n",
    "    opts = Options()\n",
    "    opts.set_headless()\n",
    "    assert opts.headless\n",
    "    browser = Firefox(options=opts, executable_path=r\"D:\\\\data\\\\driver\\\\geckodriver.exe\")\n",
    "    browser.get(url)\n",
    "    html = browser.page_source \n",
    "    browser.close()\n",
    "    driver.quit()\n",
    "    return html\n"
   ]
  },
  {
   "cell_type": "code",
   "execution_count": 24,
   "metadata": {
    "tags": [
     "outputPrepend"
    ]
   },
   "outputs": [
    {
     "output_type": "execute_result",
     "data": {
      "text/plain": "<a class=\"product-image\" href=\"/Kitap/Zamanin-Kisa-Tarihi/Bilim/Populer-Bilim/urunno=0000000562120\" style=\"box-shadow: none;\" title=\"Zamanın Kısa Tarihi\">\n<div class=\"image-area\">\n<img alt=\"Zamanın Kısa Tarihi\" class=\"lazyloaded\" data-src=\"https://i.idefix.com/cache/150x242-0/originals/0000000562120-1.jpg\" src=\"https://i.idefix.com/cache/150x242-0/originals/0000000562120-1.jpg\"/>\n</div>\n</a>"
     },
     "metadata": {},
     "execution_count": 24
    }
   ],
   "source": [
    "result = getHTMLSelenium()\n",
    "\n",
    "\n",
    "soup = BeautifulSoup(result, 'html.parser')\n",
    "soup.find(\"div\", class_ = \"cart-product-box-view\").a\n",
    "\n"
   ]
  },
  {
   "cell_type": "code",
   "execution_count": 25,
   "metadata": {},
   "outputs": [
    {
     "output_type": "execute_result",
     "data": {
      "text/plain": "'/Kitap/Zamanin-Kisa-Tarihi/Bilim/Populer-Bilim/urunno=0000000562120'"
     },
     "metadata": {},
     "execution_count": 25
    }
   ],
   "source": [
    "soup.find(\"div\", class_ = \"cart-product-box-view\").a.get('href')"
   ]
  },
  {
   "cell_type": "code",
   "execution_count": 26,
   "metadata": {},
   "outputs": [
    {
     "output_type": "stream",
     "name": "stdout",
     "text": "['/Kitap/Zamanin-Kisa-Tarihi/Bilim/Populer-Bilim/urunno=0000000562120', '/Kitap/Insanlik-2-0/Bilim/Populer-Bilim/urunno=0000000688766', '/Kitap/Buyuk-Sorulara-Kisa-Yanitlar/Stephen-Hawking/Bilim/Populer-Bilim/urunno=0001791001001', '/Kitap/Bitkilerin-Bildikleri/Bilim/Populer-Bilim/urunno=0001775344001', '/Kitap/Incognito-Beynin-Gizli-Hayati/Bilim/Populer-Bilim/urunno=0000000440847', '/Kitap/IFA-Insanin-Fabrika-Ayarlari-1Kitap-Beden/Sinan-Canan/Bilim/Populer-Bilim/urunno=0001843838001', '/Kitap/Turlerin-Kokeni/Bilim/Populer-Bilim/urunno=0001719848001', '/Kitap/Kara-Delikler/Bilim/Astronomi/urunno=0001718325001', '/Kitap/Beyinde-Ararken-Bagirsakta-Buldum/Bilim/Populer-Bilim/urunno=0001710505001', '/Kitap/Doganin-Isaretlerini-Okumanin-Kaybolmus-Sanati/Bilim/Populer-Bilim/urunno=0001785184001', '/Kitap/Beyin-Senin-Hikayen/Bilim/Populer-Bilim/urunno=0000000693729', '/Kitap/Kozmos/Bilim/Astronomi/urunno=0000000059256', '/Kitap/Kimsenin-Bilemeyecegi-Seyler/Sinan-Canan/Bilim/Populer-Bilim/urunno=0000000638665', '/Kitap/Tanri-Yanilgisi/Bilim/Bilim-Tarihi-Ve-Felsefesi/urunno=0000000240160', '/Kitap/Denizdeki-1001-Seyi-Bulun/Katie-Daynes/Bilim/Tubitak-Kitaplari/urunno=0000000515358', '/Kitap/Fizik-Uzerine-Yedi-Kisa-Ders/Bilim/Fizik/urunno=0001717334001', '/Kitap/Doga-Kitabi-Bitkiler-Hayvanlar-ve-Gezegenimiz/Bilim/Ekoloji-Cevre-Bilim/urunno=0001847665001', '/Kitap/Yaratici-Tur-Fikirler-Dunyayi-Nasil-Yeniden-Yaratiyor/Bilim/Populer-Bilim/urunno=0001808114001', '/Kitap/Mikrobiyota/Bilim/Populer-Bilim/urunno=0001755230001', '/Kitap/Kesfetmenin-Hazzi/Bilim/Populer-Bilim/urunno=0000000702258', '/Kitap/Olumcul-Yakinliklar-Mikroplar-Tarihimizi-Nasil-Sekillendirir/Dorothy-H-Crawford/Bilim/Populer-Bilim/urunno=0001850948001', '/Kitap/Tarih-Kitabi/Bilim/Populer-Bilim/urunno=0001687819001', '/Kitap/Gen-Bencildir/Bilim/Biyoloji/urunno=0000000601773', '/Kitap/Eminim-Saka-Yapiyorsunuz-Bay-Feynman-Merakli-Bir-Sahsiyetin-Maceralari/Bilim/Populer-Bilim/urunno=0000000427673', '/Kitap/Goreliligin-Anlami/Bilim/Bilim-Tarihi-Ve-Felsefesi/urunno=0000000621609', '/Kitap/Buyuk-Tasarim/Bilim/Populer-Bilim/urunno=0000000390308', '/Kitap/Norolojik-Beynin-Mantiksiz-Davranislarimizin-Ardindaki-Gizli-Mantigi/Eliezer-J-Sternberg/Bilim/Populer-Bilim/urunno=0001846271001', '/Kitap/Esyanin-Kitabi-Ustune-Kurdugumuz-Malzemelerin-Olaganustu-Oykuleri/Mark-Miodownik/Bilim/Populer-Bilim/urunno=0001798374001', '/Kitap/Fizik-Yasalari-Uzerine-Clz/Bilim/Bilim-Tarihi-Ve-Felsefesi/urunno=0000000420296', '/Kitap/Insanin-Tureyisi/Bilim/Populer-Bilim/urunno=0001850360001', '/Kitap/Her-Seyin-Anlami/Bilim/Fizik/urunno=0000000719717', '/Kitap/Carl-Sagan-Seti-–-2-Kitap-Takim/Bilim/Populer-Bilim/urunno=0001687634001', '/Kitap/Sosyal-Bilimlerde-Nitel-Arastirma-Yontemleri/Bilim/Bilim-Tarihi-Ve-Felsefesi/urunno=0000000289699', '/Kitap/Dogadaki-Son-Cocuk-Ciltsiz/Bilim/Tubitak-Kitaplari/urunno=0000000334124', '/Kitap/Bing-Bang-Ve-Tanri/Bilim/Populer-Bilim/urunno=0000000361740', '/Kitap/Kozmos-Yeni-Dunyalar/Ann-Druyan/Bilim/Bilim-Tarihi-ve-Felsefesi/urunno=0001869125001']\n"
    }
   ],
   "source": [
    "\n",
    "myList = []\n",
    "for x in soup.findAll(\"div\", class_ = \"cart-product-box-view\") :\n",
    "    myList.append(x.a.get('href'))\n",
    "print(myList)"
   ]
  },
  {
   "cell_type": "code",
   "execution_count": 27,
   "metadata": {},
   "outputs": [
    {
     "output_type": "stream",
     "name": "stdout",
     "text": "36\nfetched products URLs\nOne example: /Kitap/Buyuk-Sorulara-Kisa-Yanitlar/Stephen-Hawking/Bilim/Populer-Bilim/urunno=0001791001001\n"
    }
   ],
   "source": [
    "products_urls = [x.a.get('href') for x in soup.findAll(\"div\", class_ = \"cart-product-box-view\")]\n",
    "pageCapa = len(products_urls)\n",
    "print(pageCapa)\n",
    "print(\"fetched products URLs\")\n",
    "\n",
    "print(\"One example:\", products_urls[2])"
   ]
  },
  {
   "cell_type": "code",
   "execution_count": 44,
   "metadata": {
    "tags": [
     "outputPrepend",
     "outputPrepend",
     "outputPrepend",
     "outputPrepend",
     "outputPrepend",
     "outputPrepend",
     "outputPrepend",
     "outputPrepend",
     "outputPrepend",
     "outputPrepend",
     "outputPrepend"
    ]
   },
   "outputs": [
    {
     "output_type": "stream",
     "name": "stdout",
     "text": "70 fetched URLs\nSome examples:\n"
    },
    {
     "output_type": "execute_result",
     "data": {
      "text/plain": "['https://www.idefix.com/kategori/Kitap/Bilim/grupno=00052?Page=1.html',\n 'https://www.idefix.com/kategori/Kitap/Bilim/grupno=00052?Page=2',\n 'https://www.idefix.com/kategori/Kitap/Bilim/grupno=00052?Page=3']"
     },
     "metadata": {},
     "execution_count": 44
    }
   ],
   "source": [
    "pages_urls = []\n",
    "\n",
    "new_page = \"https://www.idefix.com/kategori/Kitap/Bilim/grupno=00052?Page=1.html\"\n",
    "\n",
    "totalBooks = int(soup.find(\"div\", class_ = \"col-xl-5 col-lg-4 col-md-3 col-sm-12 status-check\").find(\"span\").find(\"strong\").get_text())\n",
    "pageNum = int(totalBooks/pageCapa) + 1\n",
    "\n",
    "myList = []\n",
    "\n",
    "for i in range(0,pageNum):\n",
    "    pages_urls.append(new_page)\n",
    "    new_page = pages_urls[-1].split(\"=\")[0] + \"=\" + pages_urls[-1].split(\"=\")[1]+ \"=\" + str(int(pages_urls[-1].split(\"=\")[-1].split(\".\")[0]) + 1)\n",
    "   \n",
    "\n",
    "print(str(len(pages_urls)) + \" fetched URLs\")\n",
    "\n",
    "print(\"Some examples:\")\n",
    "\n",
    "pages_urls[:3]\n",
    "\n"
   ]
  },
  {
   "cell_type": "code",
   "execution_count": 45,
   "metadata": {},
   "outputs": [],
   "source": [
    "def getAndParseURL(url):\n",
    "    result = requests.get(url)\n",
    "    soup = BeautifulSoup(result.text, 'html.parser')\n",
    "    return(soup)\n"
   ]
  },
  {
   "cell_type": "code",
   "execution_count": 46,
   "metadata": {},
   "outputs": [],
   "source": [
    "def getBooksURLs(url):\n",
    "    soup = getAndParseURL(url)\n",
    "    # remove the index.html part of the base url before returning the results\n",
    "    return([\"/\".join(url.split(\"/\")[:3]) + x.a.get('href') for x in soup.findAll(\"div\", class_ = \"cart-product-box-view\")])"
   ]
  },
  {
   "cell_type": "code",
   "execution_count": 48,
   "metadata": {},
   "outputs": [
    {
     "output_type": "stream",
     "name": "stdout",
     "text": "2496 fetched URLs\nSome examples:\n"
    },
    {
     "output_type": "execute_result",
     "data": {
      "text/plain": "['https://www.idefix.com/Kitap/Zamanin-Kisa-Tarihi/Bilim/Populer-Bilim/urunno=0000000562120',\n 'https://www.idefix.com/Kitap/Insanlik-2-0/Bilim/Populer-Bilim/urunno=0000000688766',\n 'https://www.idefix.com/Kitap/Buyuk-Sorulara-Kisa-Yanitlar/Stephen-Hawking/Bilim/Populer-Bilim/urunno=0001791001001',\n 'https://www.idefix.com/Kitap/Bitkilerin-Bildikleri/Bilim/Populer-Bilim/urunno=0001775344001',\n 'https://www.idefix.com/Kitap/Incognito-Beynin-Gizli-Hayati/Bilim/Populer-Bilim/urunno=0000000440847',\n 'https://www.idefix.com/Kitap/IFA-Insanin-Fabrika-Ayarlari-1Kitap-Beden/Sinan-Canan/Bilim/Populer-Bilim/urunno=0001843838001',\n 'https://www.idefix.com/Kitap/Turlerin-Kokeni/Bilim/Populer-Bilim/urunno=0001719848001',\n 'https://www.idefix.com/Kitap/Kara-Delikler/Bilim/Astronomi/urunno=0001718325001',\n 'https://www.idefix.com/Kitap/Beyinde-Ararken-Bagirsakta-Buldum/Bilim/Populer-Bilim/urunno=0001710505001',\n 'https://www.idefix.com/Kitap/Doganin-Isaretlerini-Okumanin-Kaybolmus-Sanati/Bilim/Populer-Bilim/urunno=0001785184001',\n 'https://www.idefix.com/Kitap/Beyin-Senin-Hikayen/Bilim/Populer-Bilim/urunno=0000000693729',\n 'https://www.idefix.com/Kitap/Kozmos/Bilim/Astronomi/urunno=0000000059256',\n 'https://www.idefix.com/Kitap/Kimsenin-Bilemeyecegi-Seyler/Sinan-Canan/Bilim/Populer-Bilim/urunno=0000000638665',\n 'https://www.idefix.com/Kitap/Tanri-Yanilgisi/Bilim/Bilim-Tarihi-Ve-Felsefesi/urunno=0000000240160',\n 'https://www.idefix.com/Kitap/Denizdeki-1001-Seyi-Bulun/Katie-Daynes/Bilim/Tubitak-Kitaplari/urunno=0000000515358',\n 'https://www.idefix.com/Kitap/Fizik-Uzerine-Yedi-Kisa-Ders/Bilim/Fizik/urunno=0001717334001',\n 'https://www.idefix.com/Kitap/Doga-Kitabi-Bitkiler-Hayvanlar-ve-Gezegenimiz/Bilim/Ekoloji-Cevre-Bilim/urunno=0001847665001',\n 'https://www.idefix.com/Kitap/Yaratici-Tur-Fikirler-Dunyayi-Nasil-Yeniden-Yaratiyor/Bilim/Populer-Bilim/urunno=0001808114001',\n 'https://www.idefix.com/Kitap/Mikrobiyota/Bilim/Populer-Bilim/urunno=0001755230001',\n 'https://www.idefix.com/Kitap/Kesfetmenin-Hazzi/Bilim/Populer-Bilim/urunno=0000000702258',\n 'https://www.idefix.com/Kitap/Olumcul-Yakinliklar-Mikroplar-Tarihimizi-Nasil-Sekillendirir/Dorothy-H-Crawford/Bilim/Populer-Bilim/urunno=0001850948001',\n 'https://www.idefix.com/Kitap/Tarih-Kitabi/Bilim/Populer-Bilim/urunno=0001687819001',\n 'https://www.idefix.com/Kitap/Gen-Bencildir/Bilim/Biyoloji/urunno=0000000601773',\n 'https://www.idefix.com/Kitap/Eminim-Saka-Yapiyorsunuz-Bay-Feynman-Merakli-Bir-Sahsiyetin-Maceralari/Bilim/Populer-Bilim/urunno=0000000427673',\n 'https://www.idefix.com/Kitap/Buyuk-Tasarim/Bilim/Populer-Bilim/urunno=0000000390308',\n 'https://www.idefix.com/Kitap/Goreliligin-Anlami/Bilim/Bilim-Tarihi-Ve-Felsefesi/urunno=0000000621609',\n 'https://www.idefix.com/Kitap/Norolojik-Beynin-Mantiksiz-Davranislarimizin-Ardindaki-Gizli-Mantigi/Eliezer-J-Sternberg/Bilim/Populer-Bilim/urunno=0001846271001',\n 'https://www.idefix.com/Kitap/Esyanin-Kitabi-Ustune-Kurdugumuz-Malzemelerin-Olaganustu-Oykuleri/Mark-Miodownik/Bilim/Populer-Bilim/urunno=0001798374001',\n 'https://www.idefix.com/Kitap/Fizik-Yasalari-Uzerine-Clz/Bilim/Bilim-Tarihi-Ve-Felsefesi/urunno=0000000420296',\n 'https://www.idefix.com/Kitap/Insanin-Tureyisi/Bilim/Populer-Bilim/urunno=0001850360001',\n 'https://www.idefix.com/Kitap/Her-Seyin-Anlami/Bilim/Fizik/urunno=0000000719717',\n 'https://www.idefix.com/Kitap/Carl-Sagan-Seti-–-2-Kitap-Takim/Bilim/Populer-Bilim/urunno=0001687634001',\n 'https://www.idefix.com/Kitap/Sosyal-Bilimlerde-Nitel-Arastirma-Yontemleri/Bilim/Bilim-Tarihi-Ve-Felsefesi/urunno=0000000289699',\n 'https://www.idefix.com/Kitap/Dogadaki-Son-Cocuk-Ciltsiz/Bilim/Tubitak-Kitaplari/urunno=0000000334124',\n 'https://www.idefix.com/Kitap/Bing-Bang-Ve-Tanri/Bilim/Populer-Bilim/urunno=0000000361740',\n 'https://www.idefix.com/Kitap/Kozmos-Yeni-Dunyalar/Ann-Druyan/Bilim/Bilim-Tarihi-ve-Felsefesi/urunno=0001869125001',\n 'https://www.idefix.com/Kitap/Evren-101/Carolyn-Collins-Petersen/Bilim/Bilim-Tarihi-ve-Felsefesi/urunno=0000000693451',\n 'https://www.idefix.com/Kitap/Bitki-Zekasi/Bilim/Ekolojicevre-Bilim/urunno=0001698717001',\n 'https://www.idefix.com/Kitap/Anadolu-Uygarliklari/Ekrem-Akurgal/Bilim/Arkeoloji/urunno=0000000629150',\n 'https://www.idefix.com/Kitap/Dinozorlar-Tarih-Oncesi-Donemin-Devleriyle-Tanisin/Bilim/Populer-Bilim/urunno=0001836362001',\n 'https://www.idefix.com/Kitap/Dogal-Tarimin-Yolu/Masanobu-Fukuoka/Bilim/Bilim-Tarihi-ve-Felsefesi/urunno=0000000374801',\n 'https://www.idefix.com/Kitap/David-Eagleman-Serisi-4-Kitap-Takim/Bilim/Populer-Bilim/urunno=0001808755001',\n 'https://www.idefix.com/Kitap/Ilk-Nokta-Birlestirmece-Kitabim-Hayvanlar-4-Yas/Katrina-Fearn/Bilim/Tubitak-Kitaplari/urunno=0000000637192',\n 'https://www.idefix.com/Kitap/Dunyaya-Yon-Veren-En-Etkin-100/Michael-H-Hart/Bilim/Bilim-Tarihi-ve-Felsefesi/urunno=0001862010001',\n 'https://www.idefix.com/Kitap/Ilk-Okuma-Kurtlar/James-Maclaine/Bilim/Tubitak-Kitaplari/urunno=0000000609036',\n 'https://www.idefix.com/Kitap/Karli-Bir-Gun/Anna-Milbourne/Bilim/Tubitak-Kitaplari/urunno=0000000254247',\n 'https://www.idefix.com/Kitap/Madde-Ve-Bilinc/Bilim/Populer-Bilim/urunno=0000000387217',\n 'https://www.idefix.com/Kitap/Permakultur-Bahceleri/Toby-Hemenway/Bilim/Ekoloji-Cevre-Bilim/urunno=0000000648232',\n 'https://www.idefix.com/Kitap/Kuantum-Mekanigi/Bilim/Populer-Bilim/urunno=0001690412001',\n 'https://www.idefix.com/Kitap/Son-Yillarim/Bilim/Populer-Bilim/urunno=0000000576837',\n 'https://www.idefix.com/Kitap/Bitkilerin-En-Guzel-Tarihi/Bilim/Botanik/urunno=0000000126720',\n 'https://www.idefix.com/Kitap/Keyif-Verici-Maddelerin-Tarihi/Wolfgang-Schivelbusch/Bilim/Bilim-Tarihi-ve-Felsefesi/urunno=0001852671001',\n 'https://www.idefix.com/Kitap/Doga-Kartlari-Kuslar/Bilim/Tubitak-Kitaplari/urunno=0000000434561',\n 'https://www.idefix.com/Kitap/Yagmurlu-Bir-Gun/Bilim/Tubitak-Kitaplari/urunno=0000000227771',\n 'https://www.idefix.com/Kitap/Bilincaltini-Kesfetmek/Sigmund-Freud/Bilim/Populer-Bilim/urunno=0001858950001',\n 'https://www.idefix.com/Kitap/Beynin-Sirlari/Bilim/Populer-Bilim/urunno=0001682976001',\n 'https://www.idefix.com/Kitap/Ilk-Okuma-Kopekbaliklari/Bilim/Tubitak-Kitaplari/urunno=0000000342756',\n 'https://www.idefix.com/Kitap/Kara-Delikler-Ve-Bebek-Evrenler/Bilim/Populer-Bilim/urunno=0000000438491',\n 'https://www.idefix.com/Kitap/Buyuk-Labirent-Kitabim/Ruth-Russell/Bilim/Tubitak-Kitaplari/urunno=0000000608995',\n 'https://www.idefix.com/Kitap/Zehirli-Hayvanlar-Ilk-Okuma/Emily-Bone/Bilim/Tubitak-Kitaplari/urunno=0001711452001',\n 'https://www.idefix.com/Kitap/Kor-Saatci/Bilim/Bilim-Tarihi-ve-Felsefesi/urunno=0001733696001',\n 'https://www.idefix.com/Kitap/Ilk-Okuma-Gece-Hayvanlari-7-8-Yas/Bilim/Tubitak-Kitaplari/urunno=0000000425413',\n 'https://www.idefix.com/Kitap/Ilk-Okuma-Trenler/Emily-Bone/Bilim/Tubitak-Kitaplari/urunno=0000000429328',\n 'https://www.idefix.com/Kitap/Ilk-Okuma-Hava-Durumu-7-8-Yas/Bilim/Tubitak-Kitaplari/urunno=0000000410633',\n 'https://www.idefix.com/Kitap/Atlar-ve-Poniler-Ilk-Okuma/Anna-Milbourne/Bilim/Tubitak-Kitaplari/urunno=0000000254252',\n 'https://www.idefix.com/Kitap/Bilgi-Ag-Zaman/Bilim/Populer-Bilim/urunno=0001777759001',\n 'https://www.idefix.com/Kitap/Tanriyi-Asmak-Bir-Baslangic-Kilavuzu/Richard-Dawkins/Bilim/Bilim-Tarihi-ve-Felsefesi/urunno=0001848460001',\n 'https://www.idefix.com/Kitap/Insanlik-Sendromu/Bilim/Populer-Bilim/urunno=0001849323001',\n 'https://www.idefix.com/Kitap/Her-Zaman-Her-Istedigimiz-Olmaz/Bilim/Tubitak-Kitaplari/urunno=0000000382577',\n 'https://www.idefix.com/Kitap/Cinsel-Secilim/Charles-Darwin/Bilim/Populer-Bilim/urunno=0001858292001',\n 'https://www.idefix.com/Kitap/Erken-Cocukluk-Kitapligi-Hastanede/Bilim/Tubitak-Kitaplari/urunno=0000000284855',\n 'https://www.idefix.com/Kitap/Hissedilen-Zaman-Zamani-Nasil-Deneyimleriz/Bilim/Populer-Bilim/urunno=0001758763001',\n 'https://www.idefix.com/Kitap/Genetik-101/Beth-Skwarecki/Bilim/Populer-Bilim/urunno=0001822865001',\n 'https://www.idefix.com/Kitap/Hormonlarin-Gucu-Hayatimizdaki-Hemen-Her-Seyi-Kontrol-Eden-Salgilarin-Tarihi/Bilim/Bilim-Tarihi-ve-Felsefesi/urunno=0001865130001',\n 'https://www.idefix.com/Kitap/Atlar-Ve-Poniler-Cikartma-Kitabi/Bilim/Tubitak-Kitaplari/urunno=0000000429254',\n 'https://www.idefix.com/Kitap/Ilk-Okuma-Gezegenimiz-Dunya-7-8-Yas/Bilim/Tubitak-Kitaplari/urunno=0000000410636',\n 'https://www.idefix.com/Kitap/Permakultur-Sehirde/Bilim/Ekolojicevre-Bilim/urunno=0001747873001',\n 'https://www.idefix.com/Kitap/Ilk-Okuma-Gunes-Ay-Ve-Yildizlar/Bilim/Tubitak-Kitaplari/urunno=0000000228422',\n 'https://www.idefix.com/Kitap/Beynin-Evrimi-Ve-Tanrilarin-Ortaya-Cikisi/Bilim/Populer-Bilim/urunno=0001781047001',\n 'https://www.idefix.com/Kitap/Ilk-Okuma-Antartika/Lucy-Bowman/Bilim/Tubitak-Kitaplari/urunno=0000000342758',\n 'https://www.idefix.com/Kitap/Karar-Ani-Beynimiz-Karar-Vermemizi-Nasil-Sagliyor/Bilim/Populer-Bilim/urunno=0001811417001',\n 'https://www.idefix.com/Kitap/Istatistik-ile-Nasil-Yalan-Soylenir/Bilim/Populer-Bilim/urunno=0001803621001',\n 'https://www.idefix.com/Kitap/Malzeme-Bilimi-Ve-Muhendisligi/Bilim/Muhendislik/urunno=0000000543463',\n 'https://www.idefix.com/Kitap/Gobekli-Tepe/Bilim/Arkeoloji/urunno=0000000707584',\n 'https://www.idefix.com/Kitap/Makine-Ogrenmesi-Teorik-Yonleri-ve-Pyhton-Uygulamalari-Ile-Bir-Yapay-Zeka-Ekolu/Bilim/Muhendislik/urunno=0001863853001',\n 'https://www.idefix.com/Kitap/Rolativitenin-ABCsi/Bertrand-Russell/Bilim/Bilim-Tarihi-ve-Felsefesi/urunno=0000000457389',\n 'https://www.idefix.com/Kitap/Ilk-Okuma-Ayilar/Bilim/Tubitak-Kitaplari/urunno=0000000260789',\n 'https://www.idefix.com/Kitap/Kuantum-Felsefesi/Bilim/Bilim-Tarihi-Ve-Felsefesi/urunno=0001688991001',\n 'https://www.idefix.com/Kitap/Ciftlikte/Anna-Milbourne/Bilim/Tubitak-Kitaplari/urunno=0000000254269',\n 'https://www.idefix.com/Kitap/Etkinlik-Kartlari-Cocuklarla-Yolculukta-Yapilabilecek-100-Etkinlik/Kolektif/Bilim/Tubitak-Kitaplari/urunno=0000000633567',\n 'https://www.idefix.com/Kitap/Turlerin-Kokeni/Bilim/Populer-Bilim/urunno=0001734008001',\n 'https://www.idefix.com/Kitap/Mucize-Bitki-Kenevir-Gercek-Koye-Donus-Projesi/Bilim/Botanik/urunno=0001785559001',\n 'https://www.idefix.com/Kitap/Tibbi-ve-Aromatik-Bitkiler-Bilimi-ve-Teknolojisi/Bilim/Botanik/urunno=0001831565001',\n 'https://www.idefix.com/Kitap/Insan-Vucuduna-Seyahat/Bilim/Populer-Bilim/urunno=0001706073001',\n 'https://www.idefix.com/Kitap/Bocekler-Cikartma-Kitabi/Anthony-Wootton/Bilim/Tubitak-Kitaplari/urunno=0000000369066',\n 'https://www.idefix.com/Kitap/Suphecinin-El-Kitabi/Arsel-Berkat-Acar/Bilim/Populer-Bilim/urunno=0001846895001',\n 'https://www.idefix.com/Kitap/Bilgiyle-Sohbet/Bilim/Populer-Bilim/urunno=0000000577576',\n 'https://www.idefix.com/Kitap/Yagmur-Ormanlari/Lucy-Beckett-Bowman/Bilim/Tubitak-Kitaplari/urunno=0000000369048',\n 'https://www.idefix.com/Kitap/Alti-Kolay-Parca/Bilim/Fizik/urunno=0000000570892',\n 'https://www.idefix.com/Kitap/Feynman-Fizik-Dersleri-1-Mekanik-Isinim-Isi/Bilim/Fizik/urunno=0000000711900']"
     },
     "metadata": {},
     "execution_count": 48
    }
   ],
   "source": [
    "booksURLs = []\n",
    "for page in pages_urls:\n",
    "    booksURLs.extend(getBooksURLs(page))\n",
    "\n",
    "print(str(len(booksURLs)) + \" fetched URLs\")\n",
    "print(\"Some examples:\")\n",
    "\n",
    "booksURLs[:100]"
   ]
  },
  {
   "cell_type": "code",
   "execution_count": 144,
   "metadata": {
    "tags": [
     "outputPrepend",
     "outputPrepend"
    ]
   },
   "outputs": [
    {
     "output_type": "display_data",
     "data": {
      "text/plain": "                                                 name                 author  \\\n0                                 Zamanın Kısa Tarihi        Stephen Hawking   \n1                                        İnsanlık 2.0           Ray Kurzweil   \n2                        Büyük Sorulara Kısa Yanıtlar        Stephen Hawking   \n3                               Bitkilerin Bildikleri       Daniel Chamovitz   \n4                     Incognito - Beynin Gizli Hayatı         David Eagleman   \n5          İFA:İnsanın Fabrika Ayarları 1.Kitap-Beden            Sinan Canan   \n6                                     Türlerin Kökeni         Charles Darwin   \n7                                       Kara Delikler        Stephen Hawking   \n8                   Beyinde Ararken Bağırsakta Buldum  Serkan Karaismailoğlu   \n9      Doğanın İşaretlerini Okumanın Kaybolmuş Sanatı         Tristan Gooley   \n10                                Beyin Senin Hikayen         David Eagleman   \n11                                             Kozmos             Carl Sagan   \n12                       Kimsenin Bilemeyeceği Şeyler            Sinan Canan   \n13                                    Tanrı Yanılgısı        Richard Dawkins   \n14                          Denizdeki 1001 Şeyi Bulun           Katie Daynes   \n15                       Fizik Üzerine Yedi Kısa Ders          Carlo Rovelli   \n16     Doğa Kitabı: Bitkiler-Hayvanlar ve Gezegenimiz        Marianne Taylor   \n17  Yaratıcı Tür-Fikirler Dünyayı Nasıl Yeniden Ya...      David Eagleman  ,   \n18                                        Mikrobiyota                Ed Yong   \n19                                  Keşfetmenin Hazzı     Richard P. Feynman   \n\n    price  publication year rating number of revievers  page numbers  \n0   22,04            2017.0      4                 115           NaN  \n1    36,4            2016.0    3,5                  23         720.0  \n2   18,24            2018.0      4                  38           NaN  \n3   16,13            2018.0    3,5                  19           NaN  \n4    23,4            2013.0      4                 129         304.0  \n5   19,25            2019.0    3,5                  12           NaN  \n6    26,0            2017.0      4                  31           NaN  \n7    11,4            2017.0    4,5                  35           NaN  \n8    25,2            2017.0    3,5                  51           NaN  \n9    21,6            2018.0      4                  17           NaN  \n10   22,1            2016.0      3                  64         272.0  \n11  25,35            2007.0    4,5                  68         384.0  \n12   24,5            2015.0    3,5                  37         296.0  \n13  29,25            2007.0      4                 200         400.0  \n14    6,3            2000.0    4,5                   7          35.0  \n15   9,23            2017.0      4                  10           NaN  \n16   16,8            2019.0      0                   0           NaN  \n17   24,7            2019.0      4                  16           NaN  \n18   23,4            2018.0      4                  24           NaN  \n19  17,16            2016.0      5                   4         240.0  ",
      "text/html": "<div>\n<style scoped>\n    .dataframe tbody tr th:only-of-type {\n        vertical-align: middle;\n    }\n\n    .dataframe tbody tr th {\n        vertical-align: top;\n    }\n\n    .dataframe thead th {\n        text-align: right;\n    }\n</style>\n<table border=\"1\" class=\"dataframe\">\n  <thead>\n    <tr style=\"text-align: right;\">\n      <th></th>\n      <th>name</th>\n      <th>author</th>\n      <th>price</th>\n      <th>publication year</th>\n      <th>rating</th>\n      <th>number of revievers</th>\n      <th>page numbers</th>\n    </tr>\n  </thead>\n  <tbody>\n    <tr>\n      <th>0</th>\n      <td>Zamanın Kısa Tarihi</td>\n      <td>Stephen Hawking</td>\n      <td>22,04</td>\n      <td>2017.0</td>\n      <td>4</td>\n      <td>115</td>\n      <td>NaN</td>\n    </tr>\n    <tr>\n      <th>1</th>\n      <td>İnsanlık 2.0</td>\n      <td>Ray Kurzweil</td>\n      <td>36,4</td>\n      <td>2016.0</td>\n      <td>3,5</td>\n      <td>23</td>\n      <td>720.0</td>\n    </tr>\n    <tr>\n      <th>2</th>\n      <td>Büyük Sorulara Kısa Yanıtlar</td>\n      <td>Stephen Hawking</td>\n      <td>18,24</td>\n      <td>2018.0</td>\n      <td>4</td>\n      <td>38</td>\n      <td>NaN</td>\n    </tr>\n    <tr>\n      <th>3</th>\n      <td>Bitkilerin Bildikleri</td>\n      <td>Daniel Chamovitz</td>\n      <td>16,13</td>\n      <td>2018.0</td>\n      <td>3,5</td>\n      <td>19</td>\n      <td>NaN</td>\n    </tr>\n    <tr>\n      <th>4</th>\n      <td>Incognito - Beynin Gizli Hayatı</td>\n      <td>David Eagleman</td>\n      <td>23,4</td>\n      <td>2013.0</td>\n      <td>4</td>\n      <td>129</td>\n      <td>304.0</td>\n    </tr>\n    <tr>\n      <th>5</th>\n      <td>İFA:İnsanın Fabrika Ayarları 1.Kitap-Beden</td>\n      <td>Sinan Canan</td>\n      <td>19,25</td>\n      <td>2019.0</td>\n      <td>3,5</td>\n      <td>12</td>\n      <td>NaN</td>\n    </tr>\n    <tr>\n      <th>6</th>\n      <td>Türlerin Kökeni</td>\n      <td>Charles Darwin</td>\n      <td>26,0</td>\n      <td>2017.0</td>\n      <td>4</td>\n      <td>31</td>\n      <td>NaN</td>\n    </tr>\n    <tr>\n      <th>7</th>\n      <td>Kara Delikler</td>\n      <td>Stephen Hawking</td>\n      <td>11,4</td>\n      <td>2017.0</td>\n      <td>4,5</td>\n      <td>35</td>\n      <td>NaN</td>\n    </tr>\n    <tr>\n      <th>8</th>\n      <td>Beyinde Ararken Bağırsakta Buldum</td>\n      <td>Serkan Karaismailoğlu</td>\n      <td>25,2</td>\n      <td>2017.0</td>\n      <td>3,5</td>\n      <td>51</td>\n      <td>NaN</td>\n    </tr>\n    <tr>\n      <th>9</th>\n      <td>Doğanın İşaretlerini Okumanın Kaybolmuş Sanatı</td>\n      <td>Tristan Gooley</td>\n      <td>21,6</td>\n      <td>2018.0</td>\n      <td>4</td>\n      <td>17</td>\n      <td>NaN</td>\n    </tr>\n    <tr>\n      <th>10</th>\n      <td>Beyin Senin Hikayen</td>\n      <td>David Eagleman</td>\n      <td>22,1</td>\n      <td>2016.0</td>\n      <td>3</td>\n      <td>64</td>\n      <td>272.0</td>\n    </tr>\n    <tr>\n      <th>11</th>\n      <td>Kozmos</td>\n      <td>Carl Sagan</td>\n      <td>25,35</td>\n      <td>2007.0</td>\n      <td>4,5</td>\n      <td>68</td>\n      <td>384.0</td>\n    </tr>\n    <tr>\n      <th>12</th>\n      <td>Kimsenin Bilemeyeceği Şeyler</td>\n      <td>Sinan Canan</td>\n      <td>24,5</td>\n      <td>2015.0</td>\n      <td>3,5</td>\n      <td>37</td>\n      <td>296.0</td>\n    </tr>\n    <tr>\n      <th>13</th>\n      <td>Tanrı Yanılgısı</td>\n      <td>Richard Dawkins</td>\n      <td>29,25</td>\n      <td>2007.0</td>\n      <td>4</td>\n      <td>200</td>\n      <td>400.0</td>\n    </tr>\n    <tr>\n      <th>14</th>\n      <td>Denizdeki 1001 Şeyi Bulun</td>\n      <td>Katie Daynes</td>\n      <td>6,3</td>\n      <td>2000.0</td>\n      <td>4,5</td>\n      <td>7</td>\n      <td>35.0</td>\n    </tr>\n    <tr>\n      <th>15</th>\n      <td>Fizik Üzerine Yedi Kısa Ders</td>\n      <td>Carlo Rovelli</td>\n      <td>9,23</td>\n      <td>2017.0</td>\n      <td>4</td>\n      <td>10</td>\n      <td>NaN</td>\n    </tr>\n    <tr>\n      <th>16</th>\n      <td>Doğa Kitabı: Bitkiler-Hayvanlar ve Gezegenimiz</td>\n      <td>Marianne Taylor</td>\n      <td>16,8</td>\n      <td>2019.0</td>\n      <td>0</td>\n      <td>0</td>\n      <td>NaN</td>\n    </tr>\n    <tr>\n      <th>17</th>\n      <td>Yaratıcı Tür-Fikirler Dünyayı Nasıl Yeniden Ya...</td>\n      <td>David Eagleman  ,</td>\n      <td>24,7</td>\n      <td>2019.0</td>\n      <td>4</td>\n      <td>16</td>\n      <td>NaN</td>\n    </tr>\n    <tr>\n      <th>18</th>\n      <td>Mikrobiyota</td>\n      <td>Ed Yong</td>\n      <td>23,4</td>\n      <td>2018.0</td>\n      <td>4</td>\n      <td>24</td>\n      <td>NaN</td>\n    </tr>\n    <tr>\n      <th>19</th>\n      <td>Keşfetmenin Hazzı</td>\n      <td>Richard P. Feynman</td>\n      <td>17,16</td>\n      <td>2016.0</td>\n      <td>5</td>\n      <td>4</td>\n      <td>240.0</td>\n    </tr>\n  </tbody>\n</table>\n</div>"
     },
     "metadata": {}
    }
   ],
   "source": [
    "import pandas as pd\n",
    "names = []\n",
    "authors = []\n",
    "prices = []\n",
    "reviNums = []\n",
    "ratings = []\n",
    "pubYears = []\n",
    "pageNums = []\n",
    "pagem = []\n",
    "# scrape data for every book URL: this may take some time\n",
    "i = 0\n",
    "for url in booksURLs:\n",
    "    soup = getAndParseURL(url)\n",
    "    # product name \n",
    "    names.append(soup.find(\"div\", class_ = \"product-info\").h3.text[1:].strip())\n",
    "    # the author\n",
    "    if soup.find(\"div\", class_ = \"author\"):\n",
    "      authors.append(soup.find(\"div\", class_ = \"author\").a.text)\n",
    "    else:\n",
    "      authors.append(None)\n",
    "    # prices\n",
    "    if soup.find(\"div\", class_ = \"col-sm-5 col-md-6\").find(\"div\", class_ = \"current-price\"):\n",
    "      prices.append(soup.find(\"div\", class_ = \"col-sm-5 col-md-6\").find(\"div\", class_ = \"current-price\").text[:-3])\n",
    "    else:\n",
    "      prices.append(None)\n",
    "    #publication years\n",
    "    cols = soup.find(\"div\", class_ = \"product-info-list\").find_all('a')\n",
    "    cols = [ele.text.strip() for ele in cols]\n",
    "    pagem.append(cols)\n",
    "    pagems = str(pagem)\n",
    "    pagems = pagems.replace(\"'\", '')\n",
    "    pagems = pagems.replace(\",\", '')\n",
    "    numbers = [int(word) for word in pagems.split() if word.isdigit()]\n",
    "    flag = 0,\n",
    "    for i in numbers:\n",
    "      if(i > 1850 and i < 2021):\n",
    "        pubYears.append(i)\n",
    "        flag = 1\n",
    "    if flag == 0:\n",
    "        pubYears.append(None)    \n",
    "    pagem = []\n",
    "    if len(pubYears) < len(names):\n",
    "      pubYears.append(None)\n",
    "    # ratings\n",
    "    if soup.find(\"div\", class_ = \"review-container\").span:\n",
    "      rev = soup.find(\"div\", class_ = \"review-container\").span.text\n",
    "      rate = rev.split('/')\n",
    "      ratings.append(rate[0])\n",
    "    else:\n",
    "      ratings.append(\"0\")\n",
    "    # number of reviewers\n",
    "    tot = str(rate[1])\n",
    "    tot = tot.split()\n",
    "    reviNums.append(tot[-2])\n",
    "    # page numbers\n",
    "    if soup.find(\"div\", class_ = \"product-description\").find('b'):\n",
    "      if soup.find(\"div\", class_ = \"product-description\").p.b:\n",
    "        col = soup.find(\"div\", class_ = \"product-description\").p.text\n",
    "        if (col.find(\"Sayfa Sayısı: \") != -1): \n",
    "          col = col.split(\"Sayfa Sayısı: \")\n",
    "          col2 = col[1].split(\"Baskı Yılı\")\n",
    "          col2 = col2[0].split(\"Dili\")\n",
    "          col2 = int(col2[0])\n",
    "          pageNums.append(col2)\n",
    "        else: \n",
    "          pageNums.append(None)\n",
    "          continue\n",
    "      else:\n",
    "        col = soup.find(\"div\", class_ = \"product-description\").find_all('br')\n",
    "        col = [ele.text.strip() for ele in col]\n",
    "        col = str(col)\n",
    "        if (col.find(\"Sayfa Sayısı: \") != -1): \n",
    "          col = col.split(\"Sayfa Sayısı: \")\n",
    "          col2 = col[1].split(\"Baskı Yılı\")\n",
    "          col2 = col2[0].split(\"Dili\")\n",
    "          col2 = int(col2[0])\n",
    "          pageNums.append(col2)\n",
    "          continue\n",
    "        else: \n",
    "          pageNums.append(None)\n",
    "          continue\n",
    "    else:\n",
    "      pageNums.append(None)\n",
    "\n",
    "\n",
    "\n",
    "scrapped_data = pd.DataFrame({'name': names, 'author': authors, 'price': prices,'publication year': pubYears, 'rating': ratings,'number of revievers': reviNums, 'page numbers': pageNums})\n",
    "display(scrapped_data[:20])"
   ]
  },
  {
   "cell_type": "code",
   "execution_count": 145,
   "metadata": {},
   "outputs": [
    {
     "output_type": "display_data",
     "data": {
      "text/plain": "                                                 name  \\\n0                                 Zamanın Kısa Tarihi   \n1                                        İnsanlık 2.0   \n2                        Büyük Sorulara Kısa Yanıtlar   \n3                               Bitkilerin Bildikleri   \n4                     Incognito - Beynin Gizli Hayatı   \n5          İFA:İnsanın Fabrika Ayarları 1.Kitap-Beden   \n6                                     Türlerin Kökeni   \n7                                       Kara Delikler   \n8                   Beyinde Ararken Bağırsakta Buldum   \n9      Doğanın İşaretlerini Okumanın Kaybolmuş Sanatı   \n10                                Beyin Senin Hikayen   \n11                                             Kozmos   \n12                       Kimsenin Bilemeyeceği Şeyler   \n13                                    Tanrı Yanılgısı   \n14                          Denizdeki 1001 Şeyi Bulun   \n15                       Fizik Üzerine Yedi Kısa Ders   \n16     Doğa Kitabı: Bitkiler-Hayvanlar ve Gezegenimiz   \n17  Yaratıcı Tür-Fikirler Dünyayı Nasıl Yeniden Ya...   \n18                                        Mikrobiyota   \n19                                  Keşfetmenin Hazzı   \n20  Ölümcül Yakınlıklar-Mikroplar Tarihimizi Nasıl...   \n21                                       Tarih Kitabı   \n22                                      Gen Bencildir   \n23  Eminim Şaka Yapıyorsunuz Bay Feynman - Meraklı...   \n24                                      Büyük Tasarım   \n25                                 Göreliliğin Anlamı   \n26  Nörolojik: Beynin Mantıksız Davranışlarımızın ...   \n27                                    Eşyanın Tabiatı   \n28                             Fizik Yasaları Üzerine   \n29                                   İnsanın Türeyişi   \n30                                   Her Şeyin Anlamı   \n31                    Carl Sagan Seti – 2 Kitap Takım   \n32       Sosyal Bilimlerde Nitel Araştırma Yöntemleri   \n33                       Doğadaki Son Çocuk - Ciltsiz   \n34                                 Bing Bang ve Tanrı   \n35                              Kozmos: Yeni Dünyalar   \n36                                          Evren 101   \n37                                       Bitki Zekası   \n38                               Anadolu Uygarlıkları   \n39  Dinozorlar-Tarih Öncesi Dönemin Devleriyle Tan...   \n\n                      author  price  publication year rating  \\\n0            Stephen Hawking  22,04            2017.0      4   \n1               Ray Kurzweil   36,4            2016.0    3,5   \n2            Stephen Hawking  18,24            2018.0      4   \n3           Daniel Chamovitz  16,13            2018.0    3,5   \n4             David Eagleman   23,4            2013.0      4   \n5                Sinan Canan  19,25            2019.0    3,5   \n6             Charles Darwin   26,0            2017.0      4   \n7            Stephen Hawking   11,4            2017.0    4,5   \n8      Serkan Karaismailoğlu   25,2            2017.0    3,5   \n9             Tristan Gooley   21,6            2018.0      4   \n10            David Eagleman   22,1            2016.0      3   \n11                Carl Sagan  25,35            2007.0    4,5   \n12               Sinan Canan   24,5            2015.0    3,5   \n13           Richard Dawkins  29,25            2007.0      4   \n14              Katie Daynes    6,3            2000.0    4,5   \n15             Carlo Rovelli   9,23            2017.0      4   \n16           Marianne Taylor   16,8            2019.0      0   \n17         David Eagleman  ,   24,7            2019.0      4   \n18                   Ed Yong   23,4            2018.0      4   \n19        Richard P. Feynman  17,16            2016.0      5   \n20       Dorothy H. Crawford   24,0            2019.0      0   \n21                 Kolektif    82,5            2017.0      4   \n22           Richard Dawkins  26,25            2014.0    4,5   \n23        Richard P. Feynman  21,78            2013.0    4,5   \n24        Stephen Hawking  ,  20,08            2012.0    4,5   \n25           Albert Einstein  16,08            2014.0      4   \n26      Eliezer J. Sternberg   32,0            2019.0    4,5   \n27            Mark Miodownik  18,85            2019.0      4   \n28        Richard P. Feynman   16,5            2012.0      5   \n29            Charles Darwin  16,25            2019.0      5   \n30        Richard P. Feynman  12,16            2016.0    4,5   \n31                Carl Sagan   42,6               NaN      4   \n32           Hasan Şimşek  ,  37,35            2018.0    3,5   \n33              Richard Louv  13,33            2010.0      4   \n34            Caner Taslaman  16,06               NaN    2,5   \n35                Ann Druyan  61,75            2020.0    4,5   \n36  Carolyn Collins Petersen   22,5            2016.0      4   \n37        Stefano Mancuso  ,  17,52            2017.0    4,5   \n38             Ekrem Akurgal   68,4            2014.0    4,5   \n39                 Kolektif     9,0            2019.0      0   \n\n   number of revievers  page numbers  \n0                  115           NaN  \n1                   23         720.0  \n2                   38           NaN  \n3                   19           NaN  \n4                  129         304.0  \n5                   12           NaN  \n6                   31           NaN  \n7                   35           NaN  \n8                   51           NaN  \n9                   17           NaN  \n10                  64         272.0  \n11                  68         384.0  \n12                  37         296.0  \n13                 200         400.0  \n14                   7          35.0  \n15                  10           NaN  \n16                   0           NaN  \n17                  16           NaN  \n18                  24           NaN  \n19                   4         240.0  \n20                   0           NaN  \n21                  13           NaN  \n22                  29         352.0  \n23                  14         350.0  \n24                  21         164.0  \n25                   2         205.0  \n26                   4           NaN  \n27                  10           NaN  \n28                   9         200.0  \n29                   1           NaN  \n30                   5          80.0  \n31                  14           NaN  \n32                  16           NaN  \n33                   1           NaN  \n34                  20         222.0  \n35                   8           NaN  \n36                   5           NaN  \n37                   9           NaN  \n38                   1         624.0  \n39                   0           NaN  ",
      "text/html": "<div>\n<style scoped>\n    .dataframe tbody tr th:only-of-type {\n        vertical-align: middle;\n    }\n\n    .dataframe tbody tr th {\n        vertical-align: top;\n    }\n\n    .dataframe thead th {\n        text-align: right;\n    }\n</style>\n<table border=\"1\" class=\"dataframe\">\n  <thead>\n    <tr style=\"text-align: right;\">\n      <th></th>\n      <th>name</th>\n      <th>author</th>\n      <th>price</th>\n      <th>publication year</th>\n      <th>rating</th>\n      <th>number of revievers</th>\n      <th>page numbers</th>\n    </tr>\n  </thead>\n  <tbody>\n    <tr>\n      <th>0</th>\n      <td>Zamanın Kısa Tarihi</td>\n      <td>Stephen Hawking</td>\n      <td>22,04</td>\n      <td>2017.0</td>\n      <td>4</td>\n      <td>115</td>\n      <td>NaN</td>\n    </tr>\n    <tr>\n      <th>1</th>\n      <td>İnsanlık 2.0</td>\n      <td>Ray Kurzweil</td>\n      <td>36,4</td>\n      <td>2016.0</td>\n      <td>3,5</td>\n      <td>23</td>\n      <td>720.0</td>\n    </tr>\n    <tr>\n      <th>2</th>\n      <td>Büyük Sorulara Kısa Yanıtlar</td>\n      <td>Stephen Hawking</td>\n      <td>18,24</td>\n      <td>2018.0</td>\n      <td>4</td>\n      <td>38</td>\n      <td>NaN</td>\n    </tr>\n    <tr>\n      <th>3</th>\n      <td>Bitkilerin Bildikleri</td>\n      <td>Daniel Chamovitz</td>\n      <td>16,13</td>\n      <td>2018.0</td>\n      <td>3,5</td>\n      <td>19</td>\n      <td>NaN</td>\n    </tr>\n    <tr>\n      <th>4</th>\n      <td>Incognito - Beynin Gizli Hayatı</td>\n      <td>David Eagleman</td>\n      <td>23,4</td>\n      <td>2013.0</td>\n      <td>4</td>\n      <td>129</td>\n      <td>304.0</td>\n    </tr>\n    <tr>\n      <th>5</th>\n      <td>İFA:İnsanın Fabrika Ayarları 1.Kitap-Beden</td>\n      <td>Sinan Canan</td>\n      <td>19,25</td>\n      <td>2019.0</td>\n      <td>3,5</td>\n      <td>12</td>\n      <td>NaN</td>\n    </tr>\n    <tr>\n      <th>6</th>\n      <td>Türlerin Kökeni</td>\n      <td>Charles Darwin</td>\n      <td>26,0</td>\n      <td>2017.0</td>\n      <td>4</td>\n      <td>31</td>\n      <td>NaN</td>\n    </tr>\n    <tr>\n      <th>7</th>\n      <td>Kara Delikler</td>\n      <td>Stephen Hawking</td>\n      <td>11,4</td>\n      <td>2017.0</td>\n      <td>4,5</td>\n      <td>35</td>\n      <td>NaN</td>\n    </tr>\n    <tr>\n      <th>8</th>\n      <td>Beyinde Ararken Bağırsakta Buldum</td>\n      <td>Serkan Karaismailoğlu</td>\n      <td>25,2</td>\n      <td>2017.0</td>\n      <td>3,5</td>\n      <td>51</td>\n      <td>NaN</td>\n    </tr>\n    <tr>\n      <th>9</th>\n      <td>Doğanın İşaretlerini Okumanın Kaybolmuş Sanatı</td>\n      <td>Tristan Gooley</td>\n      <td>21,6</td>\n      <td>2018.0</td>\n      <td>4</td>\n      <td>17</td>\n      <td>NaN</td>\n    </tr>\n    <tr>\n      <th>10</th>\n      <td>Beyin Senin Hikayen</td>\n      <td>David Eagleman</td>\n      <td>22,1</td>\n      <td>2016.0</td>\n      <td>3</td>\n      <td>64</td>\n      <td>272.0</td>\n    </tr>\n    <tr>\n      <th>11</th>\n      <td>Kozmos</td>\n      <td>Carl Sagan</td>\n      <td>25,35</td>\n      <td>2007.0</td>\n      <td>4,5</td>\n      <td>68</td>\n      <td>384.0</td>\n    </tr>\n    <tr>\n      <th>12</th>\n      <td>Kimsenin Bilemeyeceği Şeyler</td>\n      <td>Sinan Canan</td>\n      <td>24,5</td>\n      <td>2015.0</td>\n      <td>3,5</td>\n      <td>37</td>\n      <td>296.0</td>\n    </tr>\n    <tr>\n      <th>13</th>\n      <td>Tanrı Yanılgısı</td>\n      <td>Richard Dawkins</td>\n      <td>29,25</td>\n      <td>2007.0</td>\n      <td>4</td>\n      <td>200</td>\n      <td>400.0</td>\n    </tr>\n    <tr>\n      <th>14</th>\n      <td>Denizdeki 1001 Şeyi Bulun</td>\n      <td>Katie Daynes</td>\n      <td>6,3</td>\n      <td>2000.0</td>\n      <td>4,5</td>\n      <td>7</td>\n      <td>35.0</td>\n    </tr>\n    <tr>\n      <th>15</th>\n      <td>Fizik Üzerine Yedi Kısa Ders</td>\n      <td>Carlo Rovelli</td>\n      <td>9,23</td>\n      <td>2017.0</td>\n      <td>4</td>\n      <td>10</td>\n      <td>NaN</td>\n    </tr>\n    <tr>\n      <th>16</th>\n      <td>Doğa Kitabı: Bitkiler-Hayvanlar ve Gezegenimiz</td>\n      <td>Marianne Taylor</td>\n      <td>16,8</td>\n      <td>2019.0</td>\n      <td>0</td>\n      <td>0</td>\n      <td>NaN</td>\n    </tr>\n    <tr>\n      <th>17</th>\n      <td>Yaratıcı Tür-Fikirler Dünyayı Nasıl Yeniden Ya...</td>\n      <td>David Eagleman  ,</td>\n      <td>24,7</td>\n      <td>2019.0</td>\n      <td>4</td>\n      <td>16</td>\n      <td>NaN</td>\n    </tr>\n    <tr>\n      <th>18</th>\n      <td>Mikrobiyota</td>\n      <td>Ed Yong</td>\n      <td>23,4</td>\n      <td>2018.0</td>\n      <td>4</td>\n      <td>24</td>\n      <td>NaN</td>\n    </tr>\n    <tr>\n      <th>19</th>\n      <td>Keşfetmenin Hazzı</td>\n      <td>Richard P. Feynman</td>\n      <td>17,16</td>\n      <td>2016.0</td>\n      <td>5</td>\n      <td>4</td>\n      <td>240.0</td>\n    </tr>\n    <tr>\n      <th>20</th>\n      <td>Ölümcül Yakınlıklar-Mikroplar Tarihimizi Nasıl...</td>\n      <td>Dorothy H. Crawford</td>\n      <td>24,0</td>\n      <td>2019.0</td>\n      <td>0</td>\n      <td>0</td>\n      <td>NaN</td>\n    </tr>\n    <tr>\n      <th>21</th>\n      <td>Tarih Kitabı</td>\n      <td>Kolektif</td>\n      <td>82,5</td>\n      <td>2017.0</td>\n      <td>4</td>\n      <td>13</td>\n      <td>NaN</td>\n    </tr>\n    <tr>\n      <th>22</th>\n      <td>Gen Bencildir</td>\n      <td>Richard Dawkins</td>\n      <td>26,25</td>\n      <td>2014.0</td>\n      <td>4,5</td>\n      <td>29</td>\n      <td>352.0</td>\n    </tr>\n    <tr>\n      <th>23</th>\n      <td>Eminim Şaka Yapıyorsunuz Bay Feynman - Meraklı...</td>\n      <td>Richard P. Feynman</td>\n      <td>21,78</td>\n      <td>2013.0</td>\n      <td>4,5</td>\n      <td>14</td>\n      <td>350.0</td>\n    </tr>\n    <tr>\n      <th>24</th>\n      <td>Büyük Tasarım</td>\n      <td>Stephen Hawking  ,</td>\n      <td>20,08</td>\n      <td>2012.0</td>\n      <td>4,5</td>\n      <td>21</td>\n      <td>164.0</td>\n    </tr>\n    <tr>\n      <th>25</th>\n      <td>Göreliliğin Anlamı</td>\n      <td>Albert Einstein</td>\n      <td>16,08</td>\n      <td>2014.0</td>\n      <td>4</td>\n      <td>2</td>\n      <td>205.0</td>\n    </tr>\n    <tr>\n      <th>26</th>\n      <td>Nörolojik: Beynin Mantıksız Davranışlarımızın ...</td>\n      <td>Eliezer J. Sternberg</td>\n      <td>32,0</td>\n      <td>2019.0</td>\n      <td>4,5</td>\n      <td>4</td>\n      <td>NaN</td>\n    </tr>\n    <tr>\n      <th>27</th>\n      <td>Eşyanın Tabiatı</td>\n      <td>Mark Miodownik</td>\n      <td>18,85</td>\n      <td>2019.0</td>\n      <td>4</td>\n      <td>10</td>\n      <td>NaN</td>\n    </tr>\n    <tr>\n      <th>28</th>\n      <td>Fizik Yasaları Üzerine</td>\n      <td>Richard P. Feynman</td>\n      <td>16,5</td>\n      <td>2012.0</td>\n      <td>5</td>\n      <td>9</td>\n      <td>200.0</td>\n    </tr>\n    <tr>\n      <th>29</th>\n      <td>İnsanın Türeyişi</td>\n      <td>Charles Darwin</td>\n      <td>16,25</td>\n      <td>2019.0</td>\n      <td>5</td>\n      <td>1</td>\n      <td>NaN</td>\n    </tr>\n    <tr>\n      <th>30</th>\n      <td>Her Şeyin Anlamı</td>\n      <td>Richard P. Feynman</td>\n      <td>12,16</td>\n      <td>2016.0</td>\n      <td>4,5</td>\n      <td>5</td>\n      <td>80.0</td>\n    </tr>\n    <tr>\n      <th>31</th>\n      <td>Carl Sagan Seti – 2 Kitap Takım</td>\n      <td>Carl Sagan</td>\n      <td>42,6</td>\n      <td>NaN</td>\n      <td>4</td>\n      <td>14</td>\n      <td>NaN</td>\n    </tr>\n    <tr>\n      <th>32</th>\n      <td>Sosyal Bilimlerde Nitel Araştırma Yöntemleri</td>\n      <td>Hasan Şimşek  ,</td>\n      <td>37,35</td>\n      <td>2018.0</td>\n      <td>3,5</td>\n      <td>16</td>\n      <td>NaN</td>\n    </tr>\n    <tr>\n      <th>33</th>\n      <td>Doğadaki Son Çocuk - Ciltsiz</td>\n      <td>Richard Louv</td>\n      <td>13,33</td>\n      <td>2010.0</td>\n      <td>4</td>\n      <td>1</td>\n      <td>NaN</td>\n    </tr>\n    <tr>\n      <th>34</th>\n      <td>Bing Bang ve Tanrı</td>\n      <td>Caner Taslaman</td>\n      <td>16,06</td>\n      <td>NaN</td>\n      <td>2,5</td>\n      <td>20</td>\n      <td>222.0</td>\n    </tr>\n    <tr>\n      <th>35</th>\n      <td>Kozmos: Yeni Dünyalar</td>\n      <td>Ann Druyan</td>\n      <td>61,75</td>\n      <td>2020.0</td>\n      <td>4,5</td>\n      <td>8</td>\n      <td>NaN</td>\n    </tr>\n    <tr>\n      <th>36</th>\n      <td>Evren 101</td>\n      <td>Carolyn Collins Petersen</td>\n      <td>22,5</td>\n      <td>2016.0</td>\n      <td>4</td>\n      <td>5</td>\n      <td>NaN</td>\n    </tr>\n    <tr>\n      <th>37</th>\n      <td>Bitki Zekası</td>\n      <td>Stefano Mancuso  ,</td>\n      <td>17,52</td>\n      <td>2017.0</td>\n      <td>4,5</td>\n      <td>9</td>\n      <td>NaN</td>\n    </tr>\n    <tr>\n      <th>38</th>\n      <td>Anadolu Uygarlıkları</td>\n      <td>Ekrem Akurgal</td>\n      <td>68,4</td>\n      <td>2014.0</td>\n      <td>4,5</td>\n      <td>1</td>\n      <td>624.0</td>\n    </tr>\n    <tr>\n      <th>39</th>\n      <td>Dinozorlar-Tarih Öncesi Dönemin Devleriyle Tan...</td>\n      <td>Kolektif</td>\n      <td>9,0</td>\n      <td>2019.0</td>\n      <td>0</td>\n      <td>0</td>\n      <td>NaN</td>\n    </tr>\n  </tbody>\n</table>\n</div>"
     },
     "metadata": {}
    }
   ],
   "source": [
    "import json\n",
    "\n",
    "scrapped_data.to_json('dataFrame.json')\n",
    "display(scrapped_data[:40])"
   ]
  },
  {
   "cell_type": "code",
   "execution_count": 151,
   "metadata": {},
   "outputs": [
    {
     "output_type": "stream",
     "name": "stdout",
     "text": "The mean value of price column : 30.42486900443367\nThe median value of price column : 23.4\nThe standard deviation value of price column : 44.59575239601974\n"
    }
   ],
   "source": [
    "data = scrapped_data[\"price\"].str.replace(',','.')\n",
    "data = data.astype(float)\n",
    "meanData = data.mean()\n",
    "print(\"The mean value of price column : \" + str(meanData))\n",
    "medianData = data.median()\n",
    "print(\"The median value of price column : \" + str(medianData))\n",
    "sDev = data.std()\n",
    "print(\"The standard deviation value of price column : \" + str(sDev))\n"
   ]
  }
 ],
 "metadata": {
  "language_info": {
   "codemirror_mode": {
    "name": "ipython",
    "version": 3
   },
   "file_extension": ".py",
   "mimetype": "text/x-python",
   "name": "python",
   "nbconvert_exporter": "python",
   "pygments_lexer": "ipython3",
   "version": "3.7.6-final"
  },
  "orig_nbformat": 2,
  "kernelspec": {
   "name": "python3",
   "display_name": "Python 3"
  }
 },
 "nbformat": 4,
 "nbformat_minor": 2
}